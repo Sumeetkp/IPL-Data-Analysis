{
 "cells": [
  {
   "cell_type": "markdown",
   "metadata": {},
   "source": [
    "<img src=\"https://github.com/insaid2018/Term-1/blob/master/Images/INSAID_Full%20Logo.png?raw=true\" width=\"240\" height=\"360\" />\n",
    "# Exploratory Data Analysis I"
   ]
  },
  {
   "cell_type": "markdown",
   "metadata": {},
   "source": [
    "## Table of Contents\n",
    "\n",
    "1. [Data Loading and Description](#section1)<br>\n",
    "2. [Data Profiling](#section2)\n",
    "    - 2.1 [Understanding the Dataset](#section201)<br/>\n",
    "    - 2.2 [Pre Profiling](#section202)<br/>\n",
    "    - 2.3 [Preprocessing](#section203)<br/>\n",
    "    - 2.4 [Post Profiling](#section204)<br/>\n",
    "3. [Questions](#section3)\n",
    "    - 3.1 [ Which team has played how many matches ?](#section301)<br/>\n",
    "    - 3.2 [ Who are the Top 5 batsman in IPL based on teams?](#section302)<br/>\n",
    "    - 3.3 [ Most successful team in IPL?](#section303)<br/>\n",
    "    - 3.4 [What is the win % of all the teams?](#section304)<br/>\n",
    "    - 3.5 [What is the win to loose ratio for all the teams?](#section305)<br/>\n",
    "    - 3.6 [Who has maximum average last 5 over score?](#section306)<br/>\n",
    "    - 3.6 [ Hypothesis: Team having good run rate in last 5 overs have more chances of winning the game](#section307)<br/>\n",
    "4. [Conclusions](#section4)<br/>  \n"
   ]
  },
  {
   "cell_type": "markdown",
   "metadata": {},
   "source": [
    "<a id=section1></a>"
   ]
  },
  {
   "cell_type": "markdown",
   "metadata": {},
   "source": [
    "<a id=section1></a>"
   ]
  },
  {
   "attachments": {},
   "cell_type": "markdown",
   "metadata": {},
   "source": [
    "### 1. Data Loading and Description\n"
   ]
  },
  {
   "cell_type": "markdown",
   "metadata": {
    "_cell_guid": "e4a1cf77-b695-4ca0-9653-6c41ce2393d8",
    "_uuid": "ca91678a9dc8cc103a7fbf799a5d903a011334ef"
   },
   "source": [
    "- The dataset consists of the information about ball by ball details of IPL matches of all the seasons. Various variables present in the dataset includes data of batting team,bowling team,innings,over,score details by ball including extra runs. \n",
    "- The dataset comprises of __164750 observations of 21 columns__. Below is a table showing names of all the columns and their description."
   ]
  },
  {
   "cell_type": "markdown",
   "metadata": {},
   "source": [
    "| Column Name   | Description                                               |\n",
    "| ------------- |:-------------                                            :| \n",
    "| Match_id      | MatchID                                                   | \n",
    "| inning        | First or Second inning of the match                       |  \n",
    "| batting_team  | Batting Team Name                                         | \n",
    "| bowling_team  | Bowling Team Name                                         |   \n",
    "| over          | Current Over                                              |\n",
    "| ball          | Current ball                                              |\n",
    "| batsman       | Batsman on Strike                                         |\n",
    "| non_striker   | Non Striker Batsman                                       |\n",
    "| bowler        | Current Bowler                                            |\n",
    "| is_super_over | Shows if the current over is super over                   |\n",
    "| wide_runs     | Score in wide                                             |\n",
    "| bye_runs      | Bye Runs                                                  | \n",
    "| legbye_runs   | Leg bye runs                                              |  \n",
    "| noball_runs   | Score on no ball                                          | \n",
    "| penalty_runs  | Penalty run                                               |   \n",
    "| batsman_runs  | Run scored by batsman on the ball                         |\n",
    "| extra_runs    | Extra scored on ball                                      |\n",
    "| total_runs    | Total Run                                                 |\n",
    "| player_dismissed   | Details of player who got out                        |\n",
    "| dismissal_kind| Dismissal type                                            |\n",
    "| fielder       | Fielder details                                           |"
   ]
  },
  {
   "cell_type": "markdown",
   "metadata": {},
   "source": [
    "#### Some Background Information\n",
    "The Indian Premier League (IPL) is a professional Twenty20 cricket league in India contested during April and May of every year by teams representing 8 Indian cities and some states.The league was founded by the Board of Control for Cricket in India (BCCI) in 2008, and is regarded as the brainchild of Lalit Modi, the founder and former commissioner of the league.IPL has an exclusive window in ICC Future Tours Programme.\n",
    "\n",
    "The IPL is the most-attended cricket league in the world and in 2014 ranked sixth by average attendance among all sports leagues. In 2010, the IPL became the first sporting event in the world to be broadcast live on YouTube.The brand value of IPL in 2018 was 6.3 billion USD , according to Duff & Phelps. According to BCCI, the 2015 IPL season contributed ₹11.5 billion (US$ 182 million) to the GDP of the Indian economy.\n",
    "\n",
    "There have been eleven seasons of the IPL tournament. The current IPL title holders are the Chennai Super Kings, who won the 2018 season."
   ]
  },
  {
   "cell_type": "markdown",
   "metadata": {
    "_cell_guid": "998b2a03-c60e-4fd6-9f69-784de6e6c9b8",
    "_uuid": "d3086cb02907affe5a674b54e4baaedd632482c7"
   },
   "source": [
    "#### Importing packages                                          "
   ]
  },
  {
   "cell_type": "code",
   "execution_count": 10,
   "metadata": {
    "_cell_guid": "872b97b2-56fe-4644-a11f-afb00f422169",
    "_uuid": "efb595c75201cdb2a53388dc152a8e526e1b921a"
   },
   "outputs": [],
   "source": [
    "import numpy as np                                                 # Implemennts milti-dimensional array and matrices\n",
    "import pandas as pd                                                # For data manipulation and analysis\n",
    "import pandas_profiling\n",
    "import matplotlib.pyplot as plt                                    # Plotting library for Python programming language and it's numerical mathematics extension NumPy\n",
    "import seaborn as sns                                              # Provides a high level interface for drawing attractive and informative statistical graphics\n",
    "%matplotlib inline\n",
    "sns.set()\n",
    "\n",
    "\n",
    "\n",
    "\n"
   ]
  },
  {
   "cell_type": "markdown",
   "metadata": {},
   "source": [
    "#### Importing the Dataset"
   ]
  },
  {
   "cell_type": "code",
   "execution_count": 11,
   "metadata": {
    "_cell_guid": "080fb327-390d-4124-b287-a561d050fe7e",
    "_uuid": "0333d5086a63e3870708e7ba7a540d036c53544e"
   },
   "outputs": [],
   "source": [
    "deliveries=pd.read_csv(\"D:/DataScience/Term-1-master/Data/Projects/deliveries.csv\")     # Importing training dataset using pd.read_csv"
   ]
  },
  {
   "cell_type": "markdown",
   "metadata": {},
   "source": [
    "<a id=section2></a>"
   ]
  },
  {
   "cell_type": "markdown",
   "metadata": {
    "_cell_guid": "6c7d2500-95b1-4057-98f7-39100e8a6d7f",
    "_uuid": "13fd8422db7a1ceae9ebb002df452e8293a9ab0c"
   },
   "source": [
    "## 2. Data Profiling"
   ]
  },
  {
   "cell_type": "markdown",
   "metadata": {},
   "source": [
    "- In the upcoming sections we will first __understand our dataset__ using various pandas functionalities.\n",
    "- Then with the help of __pandas profiling__ we will find which columns of our dataset need preprocessing.\n",
    "- In __preprocessing__ we will deal with erronous and missing values of columns. \n",
    "- Again we will do __pandas profiling__ to see how preprocessing have transformed our dataset."
   ]
  },
  {
   "cell_type": "markdown",
   "metadata": {},
   "source": [
    "<a id=section201></a>"
   ]
  },
  {
   "cell_type": "markdown",
   "metadata": {},
   "source": [
    "### 2.1 Understanding the Dataset"
   ]
  },
  {
   "cell_type": "markdown",
   "metadata": {},
   "source": [
    "To gain insights from data we must look into each aspect of it very carefully. We will start with observing few rows and columns of data both from the starting and from the end\n"
   ]
  },
  {
   "cell_type": "code",
   "execution_count": 12,
   "metadata": {},
   "outputs": [
    {
     "data": {
      "text/plain": [
       "(164750, 21)"
      ]
     },
     "execution_count": 12,
     "metadata": {},
     "output_type": "execute_result"
    }
   ],
   "source": [
    "deliveries.shape                                                    # This will print the number of rows and comlumns of the Data Frame"
   ]
  },
  {
   "cell_type": "markdown",
   "metadata": {},
   "source": [
    "deliveries has __164750 rows__ and __21 columns.__"
   ]
  },
  {
   "cell_type": "code",
   "execution_count": 13,
   "metadata": {},
   "outputs": [
    {
     "data": {
      "text/plain": [
       "Index(['match_id', 'inning', 'batting_team', 'bowling_team', 'over', 'ball',\n",
       "       'batsman', 'non_striker', 'bowler', 'is_super_over', 'wide_runs',\n",
       "       'bye_runs', 'legbye_runs', 'noball_runs', 'penalty_runs',\n",
       "       'batsman_runs', 'extra_runs', 'total_runs', 'player_dismissed',\n",
       "       'dismissal_kind', 'fielder'],\n",
       "      dtype='object')"
      ]
     },
     "execution_count": 13,
     "metadata": {},
     "output_type": "execute_result"
    }
   ],
   "source": [
    "deliveries.columns                                            # This will print the names of all columns."
   ]
  },
  {
   "cell_type": "code",
   "execution_count": 14,
   "metadata": {},
   "outputs": [
    {
     "data": {
      "text/html": [
       "<div>\n",
       "<style scoped>\n",
       "    .dataframe tbody tr th:only-of-type {\n",
       "        vertical-align: middle;\n",
       "    }\n",
       "\n",
       "    .dataframe tbody tr th {\n",
       "        vertical-align: top;\n",
       "    }\n",
       "\n",
       "    .dataframe thead th {\n",
       "        text-align: right;\n",
       "    }\n",
       "</style>\n",
       "<table border=\"1\" class=\"dataframe\">\n",
       "  <thead>\n",
       "    <tr style=\"text-align: right;\">\n",
       "      <th></th>\n",
       "      <th>match_id</th>\n",
       "      <th>inning</th>\n",
       "      <th>batting_team</th>\n",
       "      <th>bowling_team</th>\n",
       "      <th>over</th>\n",
       "      <th>ball</th>\n",
       "      <th>batsman</th>\n",
       "      <th>non_striker</th>\n",
       "      <th>bowler</th>\n",
       "      <th>is_super_over</th>\n",
       "      <th>...</th>\n",
       "      <th>bye_runs</th>\n",
       "      <th>legbye_runs</th>\n",
       "      <th>noball_runs</th>\n",
       "      <th>penalty_runs</th>\n",
       "      <th>batsman_runs</th>\n",
       "      <th>extra_runs</th>\n",
       "      <th>total_runs</th>\n",
       "      <th>player_dismissed</th>\n",
       "      <th>dismissal_kind</th>\n",
       "      <th>fielder</th>\n",
       "    </tr>\n",
       "  </thead>\n",
       "  <tbody>\n",
       "    <tr>\n",
       "      <th>0</th>\n",
       "      <td>1</td>\n",
       "      <td>1</td>\n",
       "      <td>Sunrisers Hyderabad</td>\n",
       "      <td>Royal Challengers Bangalore</td>\n",
       "      <td>1</td>\n",
       "      <td>1</td>\n",
       "      <td>DA Warner</td>\n",
       "      <td>S Dhawan</td>\n",
       "      <td>TS Mills</td>\n",
       "      <td>0</td>\n",
       "      <td>...</td>\n",
       "      <td>0</td>\n",
       "      <td>0</td>\n",
       "      <td>0</td>\n",
       "      <td>0</td>\n",
       "      <td>0</td>\n",
       "      <td>0</td>\n",
       "      <td>0</td>\n",
       "      <td>NaN</td>\n",
       "      <td>NaN</td>\n",
       "      <td>NaN</td>\n",
       "    </tr>\n",
       "    <tr>\n",
       "      <th>1</th>\n",
       "      <td>1</td>\n",
       "      <td>1</td>\n",
       "      <td>Sunrisers Hyderabad</td>\n",
       "      <td>Royal Challengers Bangalore</td>\n",
       "      <td>1</td>\n",
       "      <td>2</td>\n",
       "      <td>DA Warner</td>\n",
       "      <td>S Dhawan</td>\n",
       "      <td>TS Mills</td>\n",
       "      <td>0</td>\n",
       "      <td>...</td>\n",
       "      <td>0</td>\n",
       "      <td>0</td>\n",
       "      <td>0</td>\n",
       "      <td>0</td>\n",
       "      <td>0</td>\n",
       "      <td>0</td>\n",
       "      <td>0</td>\n",
       "      <td>NaN</td>\n",
       "      <td>NaN</td>\n",
       "      <td>NaN</td>\n",
       "    </tr>\n",
       "    <tr>\n",
       "      <th>2</th>\n",
       "      <td>1</td>\n",
       "      <td>1</td>\n",
       "      <td>Sunrisers Hyderabad</td>\n",
       "      <td>Royal Challengers Bangalore</td>\n",
       "      <td>1</td>\n",
       "      <td>3</td>\n",
       "      <td>DA Warner</td>\n",
       "      <td>S Dhawan</td>\n",
       "      <td>TS Mills</td>\n",
       "      <td>0</td>\n",
       "      <td>...</td>\n",
       "      <td>0</td>\n",
       "      <td>0</td>\n",
       "      <td>0</td>\n",
       "      <td>0</td>\n",
       "      <td>4</td>\n",
       "      <td>0</td>\n",
       "      <td>4</td>\n",
       "      <td>NaN</td>\n",
       "      <td>NaN</td>\n",
       "      <td>NaN</td>\n",
       "    </tr>\n",
       "    <tr>\n",
       "      <th>3</th>\n",
       "      <td>1</td>\n",
       "      <td>1</td>\n",
       "      <td>Sunrisers Hyderabad</td>\n",
       "      <td>Royal Challengers Bangalore</td>\n",
       "      <td>1</td>\n",
       "      <td>4</td>\n",
       "      <td>DA Warner</td>\n",
       "      <td>S Dhawan</td>\n",
       "      <td>TS Mills</td>\n",
       "      <td>0</td>\n",
       "      <td>...</td>\n",
       "      <td>0</td>\n",
       "      <td>0</td>\n",
       "      <td>0</td>\n",
       "      <td>0</td>\n",
       "      <td>0</td>\n",
       "      <td>0</td>\n",
       "      <td>0</td>\n",
       "      <td>NaN</td>\n",
       "      <td>NaN</td>\n",
       "      <td>NaN</td>\n",
       "    </tr>\n",
       "    <tr>\n",
       "      <th>4</th>\n",
       "      <td>1</td>\n",
       "      <td>1</td>\n",
       "      <td>Sunrisers Hyderabad</td>\n",
       "      <td>Royal Challengers Bangalore</td>\n",
       "      <td>1</td>\n",
       "      <td>5</td>\n",
       "      <td>DA Warner</td>\n",
       "      <td>S Dhawan</td>\n",
       "      <td>TS Mills</td>\n",
       "      <td>0</td>\n",
       "      <td>...</td>\n",
       "      <td>0</td>\n",
       "      <td>0</td>\n",
       "      <td>0</td>\n",
       "      <td>0</td>\n",
       "      <td>0</td>\n",
       "      <td>2</td>\n",
       "      <td>2</td>\n",
       "      <td>NaN</td>\n",
       "      <td>NaN</td>\n",
       "      <td>NaN</td>\n",
       "    </tr>\n",
       "  </tbody>\n",
       "</table>\n",
       "<p>5 rows × 21 columns</p>\n",
       "</div>"
      ],
      "text/plain": [
       "   match_id  inning         batting_team                 bowling_team  over  \\\n",
       "0         1       1  Sunrisers Hyderabad  Royal Challengers Bangalore     1   \n",
       "1         1       1  Sunrisers Hyderabad  Royal Challengers Bangalore     1   \n",
       "2         1       1  Sunrisers Hyderabad  Royal Challengers Bangalore     1   \n",
       "3         1       1  Sunrisers Hyderabad  Royal Challengers Bangalore     1   \n",
       "4         1       1  Sunrisers Hyderabad  Royal Challengers Bangalore     1   \n",
       "\n",
       "   ball    batsman non_striker    bowler  is_super_over   ...    bye_runs  \\\n",
       "0     1  DA Warner    S Dhawan  TS Mills              0   ...           0   \n",
       "1     2  DA Warner    S Dhawan  TS Mills              0   ...           0   \n",
       "2     3  DA Warner    S Dhawan  TS Mills              0   ...           0   \n",
       "3     4  DA Warner    S Dhawan  TS Mills              0   ...           0   \n",
       "4     5  DA Warner    S Dhawan  TS Mills              0   ...           0   \n",
       "\n",
       "   legbye_runs  noball_runs  penalty_runs  batsman_runs  extra_runs  \\\n",
       "0            0            0             0             0           0   \n",
       "1            0            0             0             0           0   \n",
       "2            0            0             0             4           0   \n",
       "3            0            0             0             0           0   \n",
       "4            0            0             0             0           2   \n",
       "\n",
       "   total_runs  player_dismissed dismissal_kind fielder  \n",
       "0           0               NaN            NaN     NaN  \n",
       "1           0               NaN            NaN     NaN  \n",
       "2           4               NaN            NaN     NaN  \n",
       "3           0               NaN            NaN     NaN  \n",
       "4           2               NaN            NaN     NaN  \n",
       "\n",
       "[5 rows x 21 columns]"
      ]
     },
     "execution_count": 14,
     "metadata": {},
     "output_type": "execute_result"
    }
   ],
   "source": [
    "deliveries.head()"
   ]
  },
  {
   "cell_type": "markdown",
   "metadata": {},
   "source": [
    "<a id=section201></a>"
   ]
  },
  {
   "cell_type": "code",
   "execution_count": 15,
   "metadata": {},
   "outputs": [
    {
     "data": {
      "text/html": [
       "<div>\n",
       "<style scoped>\n",
       "    .dataframe tbody tr th:only-of-type {\n",
       "        vertical-align: middle;\n",
       "    }\n",
       "\n",
       "    .dataframe tbody tr th {\n",
       "        vertical-align: top;\n",
       "    }\n",
       "\n",
       "    .dataframe thead th {\n",
       "        text-align: right;\n",
       "    }\n",
       "</style>\n",
       "<table border=\"1\" class=\"dataframe\">\n",
       "  <thead>\n",
       "    <tr style=\"text-align: right;\">\n",
       "      <th></th>\n",
       "      <th>match_id</th>\n",
       "      <th>inning</th>\n",
       "      <th>batting_team</th>\n",
       "      <th>bowling_team</th>\n",
       "      <th>over</th>\n",
       "      <th>ball</th>\n",
       "      <th>batsman</th>\n",
       "      <th>non_striker</th>\n",
       "      <th>bowler</th>\n",
       "      <th>is_super_over</th>\n",
       "      <th>...</th>\n",
       "      <th>bye_runs</th>\n",
       "      <th>legbye_runs</th>\n",
       "      <th>noball_runs</th>\n",
       "      <th>penalty_runs</th>\n",
       "      <th>batsman_runs</th>\n",
       "      <th>extra_runs</th>\n",
       "      <th>total_runs</th>\n",
       "      <th>player_dismissed</th>\n",
       "      <th>dismissal_kind</th>\n",
       "      <th>fielder</th>\n",
       "    </tr>\n",
       "  </thead>\n",
       "  <tbody>\n",
       "    <tr>\n",
       "      <th>164745</th>\n",
       "      <td>7953</td>\n",
       "      <td>2</td>\n",
       "      <td>Chennai Super Kings</td>\n",
       "      <td>Sunrisers Hyderabad</td>\n",
       "      <td>18</td>\n",
       "      <td>5</td>\n",
       "      <td>SR Watson</td>\n",
       "      <td>AT Rayudu</td>\n",
       "      <td>S Kaul</td>\n",
       "      <td>0</td>\n",
       "      <td>...</td>\n",
       "      <td>0</td>\n",
       "      <td>0</td>\n",
       "      <td>0</td>\n",
       "      <td>0</td>\n",
       "      <td>4</td>\n",
       "      <td>0</td>\n",
       "      <td>4</td>\n",
       "      <td>NaN</td>\n",
       "      <td>NaN</td>\n",
       "      <td>NaN</td>\n",
       "    </tr>\n",
       "    <tr>\n",
       "      <th>164746</th>\n",
       "      <td>7953</td>\n",
       "      <td>2</td>\n",
       "      <td>Chennai Super Kings</td>\n",
       "      <td>Sunrisers Hyderabad</td>\n",
       "      <td>18</td>\n",
       "      <td>6</td>\n",
       "      <td>SR Watson</td>\n",
       "      <td>AT Rayudu</td>\n",
       "      <td>S Kaul</td>\n",
       "      <td>0</td>\n",
       "      <td>...</td>\n",
       "      <td>0</td>\n",
       "      <td>0</td>\n",
       "      <td>0</td>\n",
       "      <td>0</td>\n",
       "      <td>0</td>\n",
       "      <td>0</td>\n",
       "      <td>0</td>\n",
       "      <td>NaN</td>\n",
       "      <td>NaN</td>\n",
       "      <td>NaN</td>\n",
       "    </tr>\n",
       "    <tr>\n",
       "      <th>164747</th>\n",
       "      <td>7953</td>\n",
       "      <td>2</td>\n",
       "      <td>Chennai Super Kings</td>\n",
       "      <td>Sunrisers Hyderabad</td>\n",
       "      <td>19</td>\n",
       "      <td>1</td>\n",
       "      <td>AT Rayudu</td>\n",
       "      <td>SR Watson</td>\n",
       "      <td>CR Brathwaite</td>\n",
       "      <td>0</td>\n",
       "      <td>...</td>\n",
       "      <td>0</td>\n",
       "      <td>0</td>\n",
       "      <td>0</td>\n",
       "      <td>0</td>\n",
       "      <td>0</td>\n",
       "      <td>0</td>\n",
       "      <td>0</td>\n",
       "      <td>NaN</td>\n",
       "      <td>NaN</td>\n",
       "      <td>NaN</td>\n",
       "    </tr>\n",
       "    <tr>\n",
       "      <th>164748</th>\n",
       "      <td>7953</td>\n",
       "      <td>2</td>\n",
       "      <td>Chennai Super Kings</td>\n",
       "      <td>Sunrisers Hyderabad</td>\n",
       "      <td>19</td>\n",
       "      <td>2</td>\n",
       "      <td>AT Rayudu</td>\n",
       "      <td>SR Watson</td>\n",
       "      <td>CR Brathwaite</td>\n",
       "      <td>0</td>\n",
       "      <td>...</td>\n",
       "      <td>0</td>\n",
       "      <td>0</td>\n",
       "      <td>0</td>\n",
       "      <td>0</td>\n",
       "      <td>0</td>\n",
       "      <td>0</td>\n",
       "      <td>0</td>\n",
       "      <td>NaN</td>\n",
       "      <td>NaN</td>\n",
       "      <td>NaN</td>\n",
       "    </tr>\n",
       "    <tr>\n",
       "      <th>164749</th>\n",
       "      <td>7953</td>\n",
       "      <td>2</td>\n",
       "      <td>Chennai Super Kings</td>\n",
       "      <td>Sunrisers Hyderabad</td>\n",
       "      <td>19</td>\n",
       "      <td>3</td>\n",
       "      <td>AT Rayudu</td>\n",
       "      <td>SR Watson</td>\n",
       "      <td>CR Brathwaite</td>\n",
       "      <td>0</td>\n",
       "      <td>...</td>\n",
       "      <td>0</td>\n",
       "      <td>0</td>\n",
       "      <td>0</td>\n",
       "      <td>0</td>\n",
       "      <td>4</td>\n",
       "      <td>0</td>\n",
       "      <td>4</td>\n",
       "      <td>NaN</td>\n",
       "      <td>NaN</td>\n",
       "      <td>NaN</td>\n",
       "    </tr>\n",
       "  </tbody>\n",
       "</table>\n",
       "<p>5 rows × 21 columns</p>\n",
       "</div>"
      ],
      "text/plain": [
       "        match_id  inning         batting_team         bowling_team  over  \\\n",
       "164745      7953       2  Chennai Super Kings  Sunrisers Hyderabad    18   \n",
       "164746      7953       2  Chennai Super Kings  Sunrisers Hyderabad    18   \n",
       "164747      7953       2  Chennai Super Kings  Sunrisers Hyderabad    19   \n",
       "164748      7953       2  Chennai Super Kings  Sunrisers Hyderabad    19   \n",
       "164749      7953       2  Chennai Super Kings  Sunrisers Hyderabad    19   \n",
       "\n",
       "        ball    batsman non_striker         bowler  is_super_over   ...    \\\n",
       "164745     5  SR Watson   AT Rayudu         S Kaul              0   ...     \n",
       "164746     6  SR Watson   AT Rayudu         S Kaul              0   ...     \n",
       "164747     1  AT Rayudu   SR Watson  CR Brathwaite              0   ...     \n",
       "164748     2  AT Rayudu   SR Watson  CR Brathwaite              0   ...     \n",
       "164749     3  AT Rayudu   SR Watson  CR Brathwaite              0   ...     \n",
       "\n",
       "        bye_runs  legbye_runs  noball_runs  penalty_runs  batsman_runs  \\\n",
       "164745         0            0            0             0             4   \n",
       "164746         0            0            0             0             0   \n",
       "164747         0            0            0             0             0   \n",
       "164748         0            0            0             0             0   \n",
       "164749         0            0            0             0             4   \n",
       "\n",
       "        extra_runs  total_runs  player_dismissed dismissal_kind fielder  \n",
       "164745           0           4               NaN            NaN     NaN  \n",
       "164746           0           0               NaN            NaN     NaN  \n",
       "164747           0           0               NaN            NaN     NaN  \n",
       "164748           0           0               NaN            NaN     NaN  \n",
       "164749           0           4               NaN            NaN     NaN  \n",
       "\n",
       "[5 rows x 21 columns]"
      ]
     },
     "execution_count": 15,
     "metadata": {},
     "output_type": "execute_result"
    }
   ],
   "source": [
    "deliveries.tail()                                                   # This will print the last n rows of the Data Frame"
   ]
  },
  {
   "cell_type": "code",
   "execution_count": 16,
   "metadata": {},
   "outputs": [
    {
     "name": "stdout",
     "output_type": "stream",
     "text": [
      "<class 'pandas.core.frame.DataFrame'>\n",
      "RangeIndex: 164750 entries, 0 to 164749\n",
      "Data columns (total 21 columns):\n",
      "match_id            164750 non-null int64\n",
      "inning              164750 non-null int64\n",
      "batting_team        164750 non-null object\n",
      "bowling_team        164750 non-null object\n",
      "over                164750 non-null int64\n",
      "ball                164750 non-null int64\n",
      "batsman             164750 non-null object\n",
      "non_striker         164750 non-null object\n",
      "bowler              164750 non-null object\n",
      "is_super_over       164750 non-null int64\n",
      "wide_runs           164750 non-null int64\n",
      "bye_runs            164750 non-null int64\n",
      "legbye_runs         164750 non-null int64\n",
      "noball_runs         164750 non-null int64\n",
      "penalty_runs        164750 non-null int64\n",
      "batsman_runs        164750 non-null int64\n",
      "extra_runs          164750 non-null int64\n",
      "total_runs          164750 non-null int64\n",
      "player_dismissed    8157 non-null object\n",
      "dismissal_kind      8157 non-null object\n",
      "fielder             5918 non-null object\n",
      "dtypes: int64(13), object(8)\n",
      "memory usage: 26.4+ MB\n"
     ]
    }
   ],
   "source": [
    "deliveries.info()                                                   # This will give Index, Datatype and Memory information"
   ]
  },
  {
   "cell_type": "code",
   "execution_count": 17,
   "metadata": {},
   "outputs": [
    {
     "data": {
      "text/html": [
       "<div>\n",
       "<style scoped>\n",
       "    .dataframe tbody tr th:only-of-type {\n",
       "        vertical-align: middle;\n",
       "    }\n",
       "\n",
       "    .dataframe tbody tr th {\n",
       "        vertical-align: top;\n",
       "    }\n",
       "\n",
       "    .dataframe thead th {\n",
       "        text-align: right;\n",
       "    }\n",
       "</style>\n",
       "<table border=\"1\" class=\"dataframe\">\n",
       "  <thead>\n",
       "    <tr style=\"text-align: right;\">\n",
       "      <th></th>\n",
       "      <th>match_id</th>\n",
       "      <th>inning</th>\n",
       "      <th>over</th>\n",
       "      <th>ball</th>\n",
       "      <th>is_super_over</th>\n",
       "      <th>wide_runs</th>\n",
       "      <th>bye_runs</th>\n",
       "      <th>legbye_runs</th>\n",
       "      <th>noball_runs</th>\n",
       "      <th>penalty_runs</th>\n",
       "      <th>batsman_runs</th>\n",
       "      <th>extra_runs</th>\n",
       "      <th>total_runs</th>\n",
       "    </tr>\n",
       "  </thead>\n",
       "  <tbody>\n",
       "    <tr>\n",
       "      <th>count</th>\n",
       "      <td>164750.000000</td>\n",
       "      <td>164750.000000</td>\n",
       "      <td>164750.000000</td>\n",
       "      <td>164750.000000</td>\n",
       "      <td>164750.000000</td>\n",
       "      <td>164750.000000</td>\n",
       "      <td>164750.000000</td>\n",
       "      <td>164750.000000</td>\n",
       "      <td>164750.000000</td>\n",
       "      <td>164750.000000</td>\n",
       "      <td>164750.000000</td>\n",
       "      <td>164750.000000</td>\n",
       "      <td>164750.000000</td>\n",
       "    </tr>\n",
       "    <tr>\n",
       "      <th>mean</th>\n",
       "      <td>977.951757</td>\n",
       "      <td>1.482307</td>\n",
       "      <td>10.151879</td>\n",
       "      <td>3.616243</td>\n",
       "      <td>0.000492</td>\n",
       "      <td>0.037184</td>\n",
       "      <td>0.004898</td>\n",
       "      <td>0.021548</td>\n",
       "      <td>0.004200</td>\n",
       "      <td>0.000061</td>\n",
       "      <td>1.237238</td>\n",
       "      <td>0.067891</td>\n",
       "      <td>1.305129</td>\n",
       "    </tr>\n",
       "    <tr>\n",
       "      <th>std</th>\n",
       "      <td>2147.671843</td>\n",
       "      <td>0.501592</td>\n",
       "      <td>5.675666</td>\n",
       "      <td>1.807398</td>\n",
       "      <td>0.022168</td>\n",
       "      <td>0.254087</td>\n",
       "      <td>0.115006</td>\n",
       "      <td>0.196410</td>\n",
       "      <td>0.071111</td>\n",
       "      <td>0.017421</td>\n",
       "      <td>1.603511</td>\n",
       "      <td>0.345144</td>\n",
       "      <td>1.596255</td>\n",
       "    </tr>\n",
       "    <tr>\n",
       "      <th>min</th>\n",
       "      <td>1.000000</td>\n",
       "      <td>1.000000</td>\n",
       "      <td>1.000000</td>\n",
       "      <td>1.000000</td>\n",
       "      <td>0.000000</td>\n",
       "      <td>0.000000</td>\n",
       "      <td>0.000000</td>\n",
       "      <td>0.000000</td>\n",
       "      <td>0.000000</td>\n",
       "      <td>0.000000</td>\n",
       "      <td>0.000000</td>\n",
       "      <td>0.000000</td>\n",
       "      <td>0.000000</td>\n",
       "    </tr>\n",
       "    <tr>\n",
       "      <th>25%</th>\n",
       "      <td>175.000000</td>\n",
       "      <td>1.000000</td>\n",
       "      <td>5.000000</td>\n",
       "      <td>2.000000</td>\n",
       "      <td>0.000000</td>\n",
       "      <td>0.000000</td>\n",
       "      <td>0.000000</td>\n",
       "      <td>0.000000</td>\n",
       "      <td>0.000000</td>\n",
       "      <td>0.000000</td>\n",
       "      <td>0.000000</td>\n",
       "      <td>0.000000</td>\n",
       "      <td>0.000000</td>\n",
       "    </tr>\n",
       "    <tr>\n",
       "      <th>50%</th>\n",
       "      <td>349.000000</td>\n",
       "      <td>1.000000</td>\n",
       "      <td>10.000000</td>\n",
       "      <td>4.000000</td>\n",
       "      <td>0.000000</td>\n",
       "      <td>0.000000</td>\n",
       "      <td>0.000000</td>\n",
       "      <td>0.000000</td>\n",
       "      <td>0.000000</td>\n",
       "      <td>0.000000</td>\n",
       "      <td>1.000000</td>\n",
       "      <td>0.000000</td>\n",
       "      <td>1.000000</td>\n",
       "    </tr>\n",
       "    <tr>\n",
       "      <th>75%</th>\n",
       "      <td>521.000000</td>\n",
       "      <td>2.000000</td>\n",
       "      <td>15.000000</td>\n",
       "      <td>5.000000</td>\n",
       "      <td>0.000000</td>\n",
       "      <td>0.000000</td>\n",
       "      <td>0.000000</td>\n",
       "      <td>0.000000</td>\n",
       "      <td>0.000000</td>\n",
       "      <td>0.000000</td>\n",
       "      <td>1.000000</td>\n",
       "      <td>0.000000</td>\n",
       "      <td>1.000000</td>\n",
       "    </tr>\n",
       "    <tr>\n",
       "      <th>max</th>\n",
       "      <td>7953.000000</td>\n",
       "      <td>4.000000</td>\n",
       "      <td>20.000000</td>\n",
       "      <td>9.000000</td>\n",
       "      <td>1.000000</td>\n",
       "      <td>5.000000</td>\n",
       "      <td>4.000000</td>\n",
       "      <td>5.000000</td>\n",
       "      <td>5.000000</td>\n",
       "      <td>5.000000</td>\n",
       "      <td>7.000000</td>\n",
       "      <td>7.000000</td>\n",
       "      <td>10.000000</td>\n",
       "    </tr>\n",
       "  </tbody>\n",
       "</table>\n",
       "</div>"
      ],
      "text/plain": [
       "            match_id         inning           over           ball  \\\n",
       "count  164750.000000  164750.000000  164750.000000  164750.000000   \n",
       "mean      977.951757       1.482307      10.151879       3.616243   \n",
       "std      2147.671843       0.501592       5.675666       1.807398   \n",
       "min         1.000000       1.000000       1.000000       1.000000   \n",
       "25%       175.000000       1.000000       5.000000       2.000000   \n",
       "50%       349.000000       1.000000      10.000000       4.000000   \n",
       "75%       521.000000       2.000000      15.000000       5.000000   \n",
       "max      7953.000000       4.000000      20.000000       9.000000   \n",
       "\n",
       "       is_super_over      wide_runs       bye_runs    legbye_runs  \\\n",
       "count  164750.000000  164750.000000  164750.000000  164750.000000   \n",
       "mean        0.000492       0.037184       0.004898       0.021548   \n",
       "std         0.022168       0.254087       0.115006       0.196410   \n",
       "min         0.000000       0.000000       0.000000       0.000000   \n",
       "25%         0.000000       0.000000       0.000000       0.000000   \n",
       "50%         0.000000       0.000000       0.000000       0.000000   \n",
       "75%         0.000000       0.000000       0.000000       0.000000   \n",
       "max         1.000000       5.000000       4.000000       5.000000   \n",
       "\n",
       "         noball_runs   penalty_runs   batsman_runs     extra_runs  \\\n",
       "count  164750.000000  164750.000000  164750.000000  164750.000000   \n",
       "mean        0.004200       0.000061       1.237238       0.067891   \n",
       "std         0.071111       0.017421       1.603511       0.345144   \n",
       "min         0.000000       0.000000       0.000000       0.000000   \n",
       "25%         0.000000       0.000000       0.000000       0.000000   \n",
       "50%         0.000000       0.000000       1.000000       0.000000   \n",
       "75%         0.000000       0.000000       1.000000       0.000000   \n",
       "max         5.000000       5.000000       7.000000       7.000000   \n",
       "\n",
       "          total_runs  \n",
       "count  164750.000000  \n",
       "mean        1.305129  \n",
       "std         1.596255  \n",
       "min         0.000000  \n",
       "25%         0.000000  \n",
       "50%         1.000000  \n",
       "75%         1.000000  \n",
       "max        10.000000  "
      ]
     },
     "execution_count": 17,
     "metadata": {},
     "output_type": "execute_result"
    }
   ],
   "source": [
    "deliveries.describe()"
   ]
  },
  {
   "cell_type": "code",
   "execution_count": 18,
   "metadata": {},
   "outputs": [
    {
     "data": {
      "text/plain": [
       "match_id                 0\n",
       "inning                   0\n",
       "batting_team             0\n",
       "bowling_team             0\n",
       "over                     0\n",
       "ball                     0\n",
       "batsman                  0\n",
       "non_striker              0\n",
       "bowler                   0\n",
       "is_super_over            0\n",
       "wide_runs                0\n",
       "bye_runs                 0\n",
       "legbye_runs              0\n",
       "noball_runs              0\n",
       "penalty_runs             0\n",
       "batsman_runs             0\n",
       "extra_runs               0\n",
       "total_runs               0\n",
       "player_dismissed    156593\n",
       "dismissal_kind      156593\n",
       "fielder             158832\n",
       "dtype: int64"
      ]
     },
     "execution_count": 18,
     "metadata": {},
     "output_type": "execute_result"
    }
   ],
   "source": [
    "deliveries.isnull().sum()"
   ]
  },
  {
   "cell_type": "markdown",
   "metadata": {},
   "source": [
    "From the above output we can see that __Player_dismissed__,__dismissa_kind__ and __fielder__ columns contains __maximum null values__. We will see how to deal with them."
   ]
  },
  {
   "cell_type": "markdown",
   "metadata": {},
   "source": [
    "<a id=section202></a>"
   ]
  },
  {
   "cell_type": "markdown",
   "metadata": {},
   "source": [
    "### 2.2 Pre Profiling"
   ]
  },
  {
   "cell_type": "code",
   "execution_count": 19,
   "metadata": {},
   "outputs": [],
   "source": [
    "profile = pandas_profiling.ProfileReport(deliveries)\n",
    "profile.to_file(outputfile=\"deliveries_preprocessing.html\")"
   ]
  },
  {
   "cell_type": "markdown",
   "metadata": {},
   "source": [
    "Here, we have done Pandas Profiling before preprocessing our dataset, so we have named the html file as __deliveries_before_preprocessing.html__. Take a look at the file and see what useful insight you can develop from it. <br/>\n",
    "Now we will process our data to better understand it."
   ]
  },
  {
   "cell_type": "markdown",
   "metadata": {},
   "source": [
    "<a id=section303></a>"
   ]
  },
  {
   "cell_type": "markdown",
   "metadata": {},
   "source": [
    "### 2.3 Preprocessing"
   ]
  },
  {
   "cell_type": "markdown",
   "metadata": {},
   "source": [
    "- Dealing with missing values<br/>\n",
    "    \n",
    "    - Dropping the column __Player_dismissed,dismissa_kind and fielder__ as it has too many _null_ values.\n",
    "    "
   ]
  },
  {
   "cell_type": "code",
   "execution_count": 21,
   "metadata": {},
   "outputs": [],
   "source": [
    "deliveries.drop('player_dismissed', axis = 1,inplace = True)"
   ]
  },
  {
   "cell_type": "code",
   "execution_count": 14,
   "metadata": {},
   "outputs": [],
   "source": [
    "deliveries.drop('dismissal_kind', axis = 1,inplace = True)"
   ]
  },
  {
   "cell_type": "code",
   "execution_count": 15,
   "metadata": {},
   "outputs": [],
   "source": [
    "deliveries.drop('fielder', axis = 1,inplace = True)"
   ]
  },
  {
   "cell_type": "code",
   "execution_count": 25,
   "metadata": {},
   "outputs": [],
   "source": [
    "deliveries1=deliveries.replace('Rising Pune Supergiant','Rising Pune Supergiants')"
   ]
  },
  {
   "cell_type": "markdown",
   "metadata": {},
   "source": [
    "We have noticed for pune team there are two entries __Rising Pune Supergiant__ and __Rising Pune Supergiants__.We will replace the error entries with __Rising Pune Supergiants__ . "
   ]
  },
  {
   "cell_type": "markdown",
   "metadata": {},
   "source": [
    "<a id=section204></a>"
   ]
  },
  {
   "cell_type": "markdown",
   "metadata": {},
   "source": [
    "## 2.4 Post Pandas Profiling"
   ]
  },
  {
   "cell_type": "code",
   "execution_count": 23,
   "metadata": {},
   "outputs": [],
   "source": [
    "import pandas_profiling\n",
    "profile = pandas_profiling.ProfileReport(deliveries)\n",
    "profile.to_file(outputfile=\"deliveries_after_preprocessing.html\")"
   ]
  },
  {
   "cell_type": "markdown",
   "metadata": {},
   "source": [
    "Now we have preprocessed the data, now the dataset doesnot contain missing values, we have also replaced __Rising Pune Supergiant__ with __Rising Pune Supergiants__ to have uniform values."
   ]
  },
  {
   "cell_type": "markdown",
   "metadata": {},
   "source": [
    "<a id=section3></a>"
   ]
  },
  {
   "cell_type": "markdown",
   "metadata": {},
   "source": [
    "### 3. Questions"
   ]
  },
  {
   "cell_type": "code",
   "execution_count": 27,
   "metadata": {},
   "outputs": [],
   "source": [
    "totalruns=deliveries1.groupby(['match_id','inning','batting_team','bowling_team'])['total_runs'].sum()\n",
    "#totalruns"
   ]
  },
  {
   "cell_type": "code",
   "execution_count": 28,
   "metadata": {},
   "outputs": [
    {
     "name": "stdout",
     "output_type": "stream",
     "text": [
      "<class 'pandas.core.series.Series'>\n",
      "<class 'pandas.core.frame.DataFrame'>\n"
     ]
    }
   ],
   "source": [
    "print(type(totalruns))\n",
    "pre_winner_loser=pd.DataFrame(totalruns)\n",
    "print(type(pre_winner_loser))\n",
    "show_result=pre_winner_loser.copy()\n",
    "show_result['Result']=np.NaN\n",
    "show_result.reset_index(inplace=True)"
   ]
  },
  {
   "cell_type": "code",
   "execution_count": 30,
   "metadata": {},
   "outputs": [],
   "source": [
    "def determine_winner(input_df):\n",
    "    for i in range(0,input_df.shape[0],2):\n",
    "        if (input_df.iloc[i,4] > input_df.iloc[i+1,4]):\n",
    "            #print(input_df.iloc[i,4],input_df.iloc[i+1,4])\n",
    "            input_df.iloc[i,5]='Winner'\n",
    "            input_df.iloc[i+1,5]='Loser'\n",
    "        elif (input_df.iloc[i,4] < input_df.iloc[i+1,4]):\n",
    "            #print(input_df.iloc[i,4],input_df.iloc[i+1,4])\n",
    "            input_df.iloc[i,5]='Loser'\n",
    "            input_df.iloc[i+1,5]='Winner'\n",
    "        else:\n",
    "            pass\n",
    "determine_winner(show_result)         "
   ]
  },
  {
   "cell_type": "code",
   "execution_count": 36,
   "metadata": {},
   "outputs": [
    {
     "data": {
      "text/plain": [
       "['Royal Challengers Bangalore',\n",
       " 'Sunrisers Hyderabad',\n",
       " 'Rising Pune Supergiants',\n",
       " 'Mumbai Indians',\n",
       " 'Kolkata Knight Riders',\n",
       " 'Gujarat Lions',\n",
       " 'Kings XI Punjab',\n",
       " 'Delhi Daredevils',\n",
       " 'Chennai Super Kings',\n",
       " 'Rajasthan Royals',\n",
       " 'Deccan Chargers',\n",
       " 'Kochi Tuskers Kerala',\n",
       " 'Pune Warriors']"
      ]
     },
     "execution_count": 36,
     "metadata": {},
     "output_type": "execute_result"
    }
   ],
   "source": [
    "#show_result\n",
    "Teams=deliveries1['bowling_team'].unique()\n",
    "Teams.tolist()"
   ]
  },
  {
   "cell_type": "code",
   "execution_count": 40,
   "metadata": {},
   "outputs": [],
   "source": [
    "result_teams=show_result.groupby(['batting_team','Result'])['Result'].count()\n",
    "result_team=pd.DataFrame(result_teams)\n",
    "result_team.rename(index=str, columns={\"Result\": \"Count\"},inplace=True)\n"
   ]
  },
  {
   "cell_type": "code",
   "execution_count": 41,
   "metadata": {},
   "outputs": [
    {
     "data": {
      "text/html": [
       "<div>\n",
       "<style scoped>\n",
       "    .dataframe tbody tr th:only-of-type {\n",
       "        vertical-align: middle;\n",
       "    }\n",
       "\n",
       "    .dataframe tbody tr th {\n",
       "        vertical-align: top;\n",
       "    }\n",
       "\n",
       "    .dataframe thead th {\n",
       "        text-align: right;\n",
       "    }\n",
       "</style>\n",
       "<table border=\"1\" class=\"dataframe\">\n",
       "  <thead>\n",
       "    <tr style=\"text-align: right;\">\n",
       "      <th></th>\n",
       "      <th></th>\n",
       "      <th>Count</th>\n",
       "    </tr>\n",
       "    <tr>\n",
       "      <th>batting_team</th>\n",
       "      <th>Result</th>\n",
       "      <th></th>\n",
       "    </tr>\n",
       "  </thead>\n",
       "  <tbody>\n",
       "    <tr>\n",
       "      <th rowspan=\"2\" valign=\"top\">Chennai Super Kings</th>\n",
       "      <th>Loser</th>\n",
       "      <td>59</td>\n",
       "    </tr>\n",
       "    <tr>\n",
       "      <th>Winner</th>\n",
       "      <td>86</td>\n",
       "    </tr>\n",
       "    <tr>\n",
       "      <th rowspan=\"2\" valign=\"top\">Deccan Chargers</th>\n",
       "      <th>Loser</th>\n",
       "      <td>40</td>\n",
       "    </tr>\n",
       "    <tr>\n",
       "      <th>Winner</th>\n",
       "      <td>34</td>\n",
       "    </tr>\n",
       "    <tr>\n",
       "      <th rowspan=\"2\" valign=\"top\">Delhi Daredevils</th>\n",
       "      <th>Loser</th>\n",
       "      <td>89</td>\n",
       "    </tr>\n",
       "    <tr>\n",
       "      <th>Winner</th>\n",
       "      <td>71</td>\n",
       "    </tr>\n",
       "    <tr>\n",
       "      <th rowspan=\"2\" valign=\"top\">Gujarat Lions</th>\n",
       "      <th>Loser</th>\n",
       "      <td>17</td>\n",
       "    </tr>\n",
       "    <tr>\n",
       "      <th>Winner</th>\n",
       "      <td>13</td>\n",
       "    </tr>\n",
       "    <tr>\n",
       "      <th rowspan=\"2\" valign=\"top\">Kings XI Punjab</th>\n",
       "      <th>Loser</th>\n",
       "      <td>87</td>\n",
       "    </tr>\n",
       "    <tr>\n",
       "      <th>Winner</th>\n",
       "      <td>74</td>\n",
       "    </tr>\n",
       "    <tr>\n",
       "      <th rowspan=\"2\" valign=\"top\">Kochi Tuskers Kerala</th>\n",
       "      <th>Loser</th>\n",
       "      <td>8</td>\n",
       "    </tr>\n",
       "    <tr>\n",
       "      <th>Winner</th>\n",
       "      <td>6</td>\n",
       "    </tr>\n",
       "    <tr>\n",
       "      <th rowspan=\"2\" valign=\"top\">Kolkata Knight Riders</th>\n",
       "      <th>Loser</th>\n",
       "      <td>86</td>\n",
       "    </tr>\n",
       "    <tr>\n",
       "      <th>Winner</th>\n",
       "      <td>76</td>\n",
       "    </tr>\n",
       "    <tr>\n",
       "      <th rowspan=\"2\" valign=\"top\">Mumbai Indians</th>\n",
       "      <th>Loser</th>\n",
       "      <td>72</td>\n",
       "    </tr>\n",
       "    <tr>\n",
       "      <th>Winner</th>\n",
       "      <td>98</td>\n",
       "    </tr>\n",
       "    <tr>\n",
       "      <th rowspan=\"2\" valign=\"top\">Pune Warriors</th>\n",
       "      <th>Loser</th>\n",
       "      <td>29</td>\n",
       "    </tr>\n",
       "    <tr>\n",
       "      <th>Winner</th>\n",
       "      <td>16</td>\n",
       "    </tr>\n",
       "    <tr>\n",
       "      <th rowspan=\"2\" valign=\"top\">Rajasthan Royals</th>\n",
       "      <th>Loser</th>\n",
       "      <td>66</td>\n",
       "    </tr>\n",
       "    <tr>\n",
       "      <th>Winner</th>\n",
       "      <td>67</td>\n",
       "    </tr>\n",
       "    <tr>\n",
       "      <th rowspan=\"2\" valign=\"top\">Rising Pune Supergiants</th>\n",
       "      <th>Loser</th>\n",
       "      <td>16</td>\n",
       "    </tr>\n",
       "    <tr>\n",
       "      <th>Winner</th>\n",
       "      <td>14</td>\n",
       "    </tr>\n",
       "    <tr>\n",
       "      <th rowspan=\"2\" valign=\"top\">Royal Challengers Bangalore</th>\n",
       "      <th>Loser</th>\n",
       "      <td>85</td>\n",
       "    </tr>\n",
       "    <tr>\n",
       "      <th>Winner</th>\n",
       "      <td>82</td>\n",
       "    </tr>\n",
       "    <tr>\n",
       "      <th rowspan=\"2\" valign=\"top\">Sunrisers Hyderabad</th>\n",
       "      <th>Loser</th>\n",
       "      <td>37</td>\n",
       "    </tr>\n",
       "    <tr>\n",
       "      <th>Winner</th>\n",
       "      <td>54</td>\n",
       "    </tr>\n",
       "  </tbody>\n",
       "</table>\n",
       "</div>"
      ],
      "text/plain": [
       "                                    Count\n",
       "batting_team                Result       \n",
       "Chennai Super Kings         Loser      59\n",
       "                            Winner     86\n",
       "Deccan Chargers             Loser      40\n",
       "                            Winner     34\n",
       "Delhi Daredevils            Loser      89\n",
       "                            Winner     71\n",
       "Gujarat Lions               Loser      17\n",
       "                            Winner     13\n",
       "Kings XI Punjab             Loser      87\n",
       "                            Winner     74\n",
       "Kochi Tuskers Kerala        Loser       8\n",
       "                            Winner      6\n",
       "Kolkata Knight Riders       Loser      86\n",
       "                            Winner     76\n",
       "Mumbai Indians              Loser      72\n",
       "                            Winner     98\n",
       "Pune Warriors               Loser      29\n",
       "                            Winner     16\n",
       "Rajasthan Royals            Loser      66\n",
       "                            Winner     67\n",
       "Rising Pune Supergiants     Loser      16\n",
       "                            Winner     14\n",
       "Royal Challengers Bangalore Loser      85\n",
       "                            Winner     82\n",
       "Sunrisers Hyderabad         Loser      37\n",
       "                            Winner     54"
      ]
     },
     "execution_count": 41,
     "metadata": {},
     "output_type": "execute_result"
    }
   ],
   "source": [
    "result_team"
   ]
  },
  {
   "cell_type": "code",
   "execution_count": 43,
   "metadata": {},
   "outputs": [
    {
     "name": "stdout",
     "output_type": "stream",
     "text": [
      "{'Chennai Super Kings': 148, 'Deccan Chargers': 75, 'Delhi Daredevils': 162, 'Gujarat Lions': 31, 'Kings XI Punjab': 164, 'Kochi Tuskers Kerala': 14, 'Kolkata Knight Riders': 166, 'Mumbai Indians': 172, 'Pune Warriors': 45, 'Rajasthan Royals': 135, 'Rising Pune Supergiants': 30, 'Royal Challengers Bangalore': 168, 'Sunrisers Hyderabad': 94}\n"
     ]
    },
    {
     "data": {
      "text/html": [
       "<div>\n",
       "<style scoped>\n",
       "    .dataframe tbody tr th:only-of-type {\n",
       "        vertical-align: middle;\n",
       "    }\n",
       "\n",
       "    .dataframe tbody tr th {\n",
       "        vertical-align: top;\n",
       "    }\n",
       "\n",
       "    .dataframe thead th {\n",
       "        text-align: right;\n",
       "    }\n",
       "</style>\n",
       "<table border=\"1\" class=\"dataframe\">\n",
       "  <thead>\n",
       "    <tr style=\"text-align: right;\">\n",
       "      <th></th>\n",
       "      <th>Team</th>\n",
       "      <th>Total Match</th>\n",
       "    </tr>\n",
       "  </thead>\n",
       "  <tbody>\n",
       "    <tr>\n",
       "      <th>0</th>\n",
       "      <td>Royal Challengers Bangalore</td>\n",
       "      <td>167</td>\n",
       "    </tr>\n",
       "    <tr>\n",
       "      <th>1</th>\n",
       "      <td>Sunrisers Hyderabad</td>\n",
       "      <td>91</td>\n",
       "    </tr>\n",
       "    <tr>\n",
       "      <th>2</th>\n",
       "      <td>Rising Pune Supergiants</td>\n",
       "      <td>30</td>\n",
       "    </tr>\n",
       "    <tr>\n",
       "      <th>3</th>\n",
       "      <td>Mumbai Indians</td>\n",
       "      <td>170</td>\n",
       "    </tr>\n",
       "    <tr>\n",
       "      <th>4</th>\n",
       "      <td>Kolkata Knight Riders</td>\n",
       "      <td>162</td>\n",
       "    </tr>\n",
       "    <tr>\n",
       "      <th>5</th>\n",
       "      <td>Gujarat Lions</td>\n",
       "      <td>30</td>\n",
       "    </tr>\n",
       "    <tr>\n",
       "      <th>6</th>\n",
       "      <td>Kings XI Punjab</td>\n",
       "      <td>161</td>\n",
       "    </tr>\n",
       "    <tr>\n",
       "      <th>7</th>\n",
       "      <td>Delhi Daredevils</td>\n",
       "      <td>160</td>\n",
       "    </tr>\n",
       "    <tr>\n",
       "      <th>8</th>\n",
       "      <td>Chennai Super Kings</td>\n",
       "      <td>145</td>\n",
       "    </tr>\n",
       "    <tr>\n",
       "      <th>9</th>\n",
       "      <td>Rajasthan Royals</td>\n",
       "      <td>133</td>\n",
       "    </tr>\n",
       "    <tr>\n",
       "      <th>10</th>\n",
       "      <td>Deccan Chargers</td>\n",
       "      <td>74</td>\n",
       "    </tr>\n",
       "    <tr>\n",
       "      <th>11</th>\n",
       "      <td>Kochi Tuskers Kerala</td>\n",
       "      <td>14</td>\n",
       "    </tr>\n",
       "    <tr>\n",
       "      <th>12</th>\n",
       "      <td>Pune Warriors</td>\n",
       "      <td>45</td>\n",
       "    </tr>\n",
       "  </tbody>\n",
       "</table>\n",
       "</div>"
      ],
      "text/plain": [
       "                           Team  Total Match\n",
       "0   Royal Challengers Bangalore          167\n",
       "1           Sunrisers Hyderabad           91\n",
       "2       Rising Pune Supergiants           30\n",
       "3                Mumbai Indians          170\n",
       "4         Kolkata Knight Riders          162\n",
       "5                 Gujarat Lions           30\n",
       "6               Kings XI Punjab          161\n",
       "7              Delhi Daredevils          160\n",
       "8           Chennai Super Kings          145\n",
       "9              Rajasthan Royals          133\n",
       "10              Deccan Chargers           74\n",
       "11         Kochi Tuskers Kerala           14\n",
       "12                Pune Warriors           45"
      ]
     },
     "execution_count": 43,
     "metadata": {},
     "output_type": "execute_result"
    }
   ],
   "source": [
    "def number_of_match():\n",
    "    count1=totalruns.groupby('batting_team').count()\n",
    "    return (dict(count1))\n",
    "d=number_of_match()\n",
    "print(d)\n",
    "      \n",
    "winprecent=pd.DataFrame.from_dict(d1,orient='index')\n",
    "winprecent.index.names=[\"Team\"]\n",
    "winprecent.reset_index(inplace=True)\n",
    "winprecent.columns=['Team','Total Match']\n",
    "winprecent"
   ]
  },
  {
   "cell_type": "code",
   "execution_count": 45,
   "metadata": {},
   "outputs": [
    {
     "data": {
      "text/html": [
       "<div>\n",
       "<style scoped>\n",
       "    .dataframe tbody tr th:only-of-type {\n",
       "        vertical-align: middle;\n",
       "    }\n",
       "\n",
       "    .dataframe tbody tr th {\n",
       "        vertical-align: top;\n",
       "    }\n",
       "\n",
       "    .dataframe thead th {\n",
       "        text-align: right;\n",
       "    }\n",
       "</style>\n",
       "<table border=\"1\" class=\"dataframe\">\n",
       "  <thead>\n",
       "    <tr style=\"text-align: right;\">\n",
       "      <th></th>\n",
       "      <th>Team</th>\n",
       "      <th>Total Match</th>\n",
       "      <th>Wins</th>\n",
       "      <th>Win_Percent</th>\n",
       "    </tr>\n",
       "  </thead>\n",
       "  <tbody>\n",
       "    <tr>\n",
       "      <th>0</th>\n",
       "      <td>Royal Challengers Bangalore</td>\n",
       "      <td>167</td>\n",
       "      <td>82</td>\n",
       "      <td>49.10</td>\n",
       "    </tr>\n",
       "    <tr>\n",
       "      <th>1</th>\n",
       "      <td>Sunrisers Hyderabad</td>\n",
       "      <td>91</td>\n",
       "      <td>54</td>\n",
       "      <td>59.34</td>\n",
       "    </tr>\n",
       "    <tr>\n",
       "      <th>2</th>\n",
       "      <td>Rising Pune Supergiants</td>\n",
       "      <td>30</td>\n",
       "      <td>14</td>\n",
       "      <td>46.67</td>\n",
       "    </tr>\n",
       "    <tr>\n",
       "      <th>3</th>\n",
       "      <td>Mumbai Indians</td>\n",
       "      <td>170</td>\n",
       "      <td>98</td>\n",
       "      <td>57.65</td>\n",
       "    </tr>\n",
       "    <tr>\n",
       "      <th>4</th>\n",
       "      <td>Kolkata Knight Riders</td>\n",
       "      <td>162</td>\n",
       "      <td>76</td>\n",
       "      <td>46.91</td>\n",
       "    </tr>\n",
       "    <tr>\n",
       "      <th>5</th>\n",
       "      <td>Gujarat Lions</td>\n",
       "      <td>30</td>\n",
       "      <td>13</td>\n",
       "      <td>43.33</td>\n",
       "    </tr>\n",
       "    <tr>\n",
       "      <th>6</th>\n",
       "      <td>Kings XI Punjab</td>\n",
       "      <td>161</td>\n",
       "      <td>74</td>\n",
       "      <td>45.96</td>\n",
       "    </tr>\n",
       "    <tr>\n",
       "      <th>7</th>\n",
       "      <td>Delhi Daredevils</td>\n",
       "      <td>160</td>\n",
       "      <td>71</td>\n",
       "      <td>44.38</td>\n",
       "    </tr>\n",
       "    <tr>\n",
       "      <th>8</th>\n",
       "      <td>Chennai Super Kings</td>\n",
       "      <td>145</td>\n",
       "      <td>86</td>\n",
       "      <td>59.31</td>\n",
       "    </tr>\n",
       "    <tr>\n",
       "      <th>9</th>\n",
       "      <td>Rajasthan Royals</td>\n",
       "      <td>133</td>\n",
       "      <td>67</td>\n",
       "      <td>50.38</td>\n",
       "    </tr>\n",
       "    <tr>\n",
       "      <th>10</th>\n",
       "      <td>Deccan Chargers</td>\n",
       "      <td>74</td>\n",
       "      <td>34</td>\n",
       "      <td>45.95</td>\n",
       "    </tr>\n",
       "    <tr>\n",
       "      <th>11</th>\n",
       "      <td>Kochi Tuskers Kerala</td>\n",
       "      <td>14</td>\n",
       "      <td>6</td>\n",
       "      <td>42.86</td>\n",
       "    </tr>\n",
       "    <tr>\n",
       "      <th>12</th>\n",
       "      <td>Pune Warriors</td>\n",
       "      <td>45</td>\n",
       "      <td>16</td>\n",
       "      <td>35.56</td>\n",
       "    </tr>\n",
       "  </tbody>\n",
       "</table>\n",
       "</div>"
      ],
      "text/plain": [
       "                           Team  Total Match  Wins  Win_Percent\n",
       "0   Royal Challengers Bangalore          167    82        49.10\n",
       "1           Sunrisers Hyderabad           91    54        59.34\n",
       "2       Rising Pune Supergiants           30    14        46.67\n",
       "3                Mumbai Indians          170    98        57.65\n",
       "4         Kolkata Knight Riders          162    76        46.91\n",
       "5                 Gujarat Lions           30    13        43.33\n",
       "6               Kings XI Punjab          161    74        45.96\n",
       "7              Delhi Daredevils          160    71        44.38\n",
       "8           Chennai Super Kings          145    86        59.31\n",
       "9              Rajasthan Royals          133    67        50.38\n",
       "10              Deccan Chargers           74    34        45.95\n",
       "11         Kochi Tuskers Kerala           14     6        42.86\n",
       "12                Pune Warriors           45    16        35.56"
      ]
     },
     "execution_count": 45,
     "metadata": {},
     "output_type": "execute_result"
    }
   ],
   "source": [
    "dict2={}\n",
    "dict3={}\n",
    "dict4={}\n",
    "d1={}\n",
    "list2=[]\n",
    "win=[]\n",
    "\n",
    "def wincountfunc():\n",
    "    for i in Teams:\n",
    "        dict2[i]=(result_team.loc[i].loc['Winner']['Count'])\n",
    "    return dict2\n",
    "dict2=wincountfunc()\n",
    "\n",
    "def loosecountfunc():\n",
    "    for i in Teams:\n",
    "        dict3[i]=(result_team.loc[i].loc['Loser']['Count'])\n",
    "    return dict3\n",
    "\n",
    "dict3=loosecountfunc()\n",
    "\n",
    "def tiecount():\n",
    "    for i in Teams:\n",
    "        dict4[i]=d[i]-(dict2[i]+dict3[i])\n",
    "        \n",
    "    return dict4\n",
    "\n",
    "dict4=tiecount()\n",
    "def actualtotalmatch():\n",
    "    for i in Teams:\n",
    "        d1[i]=d[i]-dict4[i]\n",
    "    return d1\n",
    "\n",
    "d1=actualtotalmatch()\n",
    "\n",
    "\n",
    "for key,val in d1.items():\n",
    "    win.append(dict2[key])\n",
    "    val=round((dict2[key]/d1[key])*100,2)\n",
    "    list2.append(val)\n",
    "\n",
    "\n",
    "se1=pd.Series(list2)\n",
    "se2=pd.Series(win)\n",
    "winprecent['Wins']=se2.values\n",
    "winprecent['Win_Percent']=se1.values\n",
    "\n",
    "winprecent"
   ]
  },
  {
   "cell_type": "markdown",
   "metadata": {},
   "source": [
    "<a id=section301></a>"
   ]
  },
  {
   "cell_type": "markdown",
   "metadata": {
    "_cell_guid": "94c7f3de-746d-44cb-9a9d-43f32527948c",
    "_uuid": "20287febf1b25ddf9eccfbb88e363bdb80f3d958"
   },
   "source": [
    "### 3.1 Which team has played how many matches ?"
   ]
  },
  {
   "cell_type": "markdown",
   "metadata": {},
   "source": [
    "- Using Countplot"
   ]
  },
  {
   "cell_type": "code",
   "execution_count": 88,
   "metadata": {
    "_cell_guid": "d2bd2723-3a68-4e94-a629-7a0fca99cb2a",
    "_uuid": "3fe99f565401dae73cfecd3fb2cf8dc201119b36",
    "scrolled": true
   },
   "outputs": [
    {
     "data": {
      "image/png": "[encoded data removed]",
      "text/plain": [
       "<Figure size 600x300 with 1 Axes>"
      ]
     },
     "metadata": {},
     "output_type": "display_data"
    }
   ],
   "source": [
    "plt.rcParams['figure.figsize']=(6,3)\n",
    "winprecent.plot(x='Team', y='Total Match', kind='bar') \n",
    "plt.show()"
   ]
  },
  {
   "cell_type": "markdown",
   "metadata": {
    "_cell_guid": "1babbbf7-085d-4141-b29a-f9fd8f388e46",
    "_uuid": "efa6e3dbb66ca31c8aa1a2e4ec934c00bbf2e411"
   },
   "source": [
    "We can see that __Rising Pune Supergiants,Gujurat Lions,Kochi Tuskar Kerala,Pune Warriors__ have less matches as compare to other teams as they came in later part of IPL seasons to replace few other banned teams."
   ]
  },
  {
   "cell_type": "markdown",
   "metadata": {},
   "source": [
    "<a id=section302></a>"
   ]
  },
  {
   "cell_type": "markdown",
   "metadata": {
    "_cell_guid": "d9cd643d-14a4-43e6-8eeb-53fca5e2ffb1",
    "_uuid": "fdc97f58b646df5993d1e90ff28abfa2b41b1425"
   },
   "source": [
    "### 3.2 Who are the Top 5 batsman in IPL based on teams?"
   ]
  },
  {
   "cell_type": "code",
   "execution_count": 89,
   "metadata": {},
   "outputs": [
    {
     "data": {
      "image/png": "[encoded data removed]",
      "text/plain": [
       "<Figure size 600x300 with 1 Axes>"
      ]
     },
     "metadata": {},
     "output_type": "display_data"
    }
   ],
   "source": [
    "Topbatsman=deliveries1.groupby(['batting_team','batsman'])['batsman_runs'].agg('sum').nlargest(5)\n",
    "Topbatsman=pd.DataFrame(Topbatsman)\n",
    "Topbatsman.reset_index(inplace=True)\n",
    "plt.rcParams['figure.figsize']=(6,3)\n",
    "Topbatsman.plot(x='batsman', y='batsman_runs', kind='bar') \n",
    "plt.show()"
   ]
  },
  {
   "cell_type": "code",
   "execution_count": 48,
   "metadata": {},
   "outputs": [
    {
     "data": {
      "text/html": [
       "<div>\n",
       "<style scoped>\n",
       "    .dataframe tbody tr th:only-of-type {\n",
       "        vertical-align: middle;\n",
       "    }\n",
       "\n",
       "    .dataframe tbody tr th {\n",
       "        vertical-align: top;\n",
       "    }\n",
       "\n",
       "    .dataframe thead th {\n",
       "        text-align: right;\n",
       "    }\n",
       "</style>\n",
       "<table border=\"1\" class=\"dataframe\">\n",
       "  <thead>\n",
       "    <tr style=\"text-align: right;\">\n",
       "      <th></th>\n",
       "      <th>batting_team</th>\n",
       "      <th>batsman</th>\n",
       "      <th>batsman_runs</th>\n",
       "    </tr>\n",
       "  </thead>\n",
       "  <tbody>\n",
       "    <tr>\n",
       "      <th>0</th>\n",
       "      <td>Royal Challengers Bangalore</td>\n",
       "      <td>V Kohli</td>\n",
       "      <td>4962</td>\n",
       "    </tr>\n",
       "    <tr>\n",
       "      <th>1</th>\n",
       "      <td>Chennai Super Kings</td>\n",
       "      <td>SK Raina</td>\n",
       "      <td>4173</td>\n",
       "    </tr>\n",
       "    <tr>\n",
       "      <th>2</th>\n",
       "      <td>Chennai Super Kings</td>\n",
       "      <td>MS Dhoni</td>\n",
       "      <td>3467</td>\n",
       "    </tr>\n",
       "    <tr>\n",
       "      <th>3</th>\n",
       "      <td>Mumbai Indians</td>\n",
       "      <td>RG Sharma</td>\n",
       "      <td>3334</td>\n",
       "    </tr>\n",
       "    <tr>\n",
       "      <th>4</th>\n",
       "      <td>Royal Challengers Bangalore</td>\n",
       "      <td>AB de Villiers</td>\n",
       "      <td>3303</td>\n",
       "    </tr>\n",
       "  </tbody>\n",
       "</table>\n",
       "</div>"
      ],
      "text/plain": [
       "                  batting_team         batsman  batsman_runs\n",
       "0  Royal Challengers Bangalore         V Kohli          4962\n",
       "1          Chennai Super Kings        SK Raina          4173\n",
       "2          Chennai Super Kings        MS Dhoni          3467\n",
       "3               Mumbai Indians       RG Sharma          3334\n",
       "4  Royal Challengers Bangalore  AB de Villiers          3303"
      ]
     },
     "execution_count": 48,
     "metadata": {},
     "output_type": "execute_result"
    }
   ],
   "source": [
    "Topbatsman"
   ]
  },
  {
   "cell_type": "markdown",
   "metadata": {},
   "source": [
    "- __Virat Kohli__ has scored most runs among all batsmans.\n",
    "- There are 2 players each from __RCB__ and __CSK__ in top 5 batsman."
   ]
  },
  {
   "cell_type": "markdown",
   "metadata": {},
   "source": [
    "<a id=section303></a>"
   ]
  },
  {
   "cell_type": "markdown",
   "metadata": {},
   "source": [
    "### 3.3 Most successful team in IPL?"
   ]
  },
  {
   "cell_type": "code",
   "execution_count": 90,
   "metadata": {},
   "outputs": [
    {
     "data": {
      "image/png": "[encoded data removed]",
      "text/plain": [
       "<Figure size 600x300 with 1 Axes>"
      ]
     },
     "metadata": {},
     "output_type": "display_data"
    }
   ],
   "source": [
    "plt.rcParams['figure.figsize']=(6,3)\n",
    "winprecent.plot(x='Team', y='Wins', kind='bar') \n",
    "plt.show()"
   ]
  },
  {
   "cell_type": "markdown",
   "metadata": {},
   "source": [
    "We can see __Mumbai Indians__ is the most sucessful team in IPL."
   ]
  },
  {
   "cell_type": "markdown",
   "metadata": {},
   "source": [
    "<a id=section304></a>"
   ]
  },
  {
   "cell_type": "markdown",
   "metadata": {},
   "source": [
    "### 3.4 What is the win % of all the teams?"
   ]
  },
  {
   "cell_type": "code",
   "execution_count": 50,
   "metadata": {},
   "outputs": [
    {
     "data": {
      "image/png": "[encoded data removed]",
      "text/plain": [
       "<Figure size 1000x1000 with 1 Axes>"
      ]
     },
     "metadata": {},
     "output_type": "display_data"
    }
   ],
   "source": [
    "plt.rcParams['figure.figsize']=(10,10)\n",
    "winprecent.plot(x='Team', y='Win_Percent', kind='bar') \n",
    "plt.show()"
   ]
  },
  {
   "cell_type": "code",
   "execution_count": 51,
   "metadata": {},
   "outputs": [
    {
     "data": {
      "text/html": [
       "<div>\n",
       "<style scoped>\n",
       "    .dataframe tbody tr th:only-of-type {\n",
       "        vertical-align: middle;\n",
       "    }\n",
       "\n",
       "    .dataframe tbody tr th {\n",
       "        vertical-align: top;\n",
       "    }\n",
       "\n",
       "    .dataframe thead th {\n",
       "        text-align: right;\n",
       "    }\n",
       "</style>\n",
       "<table border=\"1\" class=\"dataframe\">\n",
       "  <thead>\n",
       "    <tr style=\"text-align: right;\">\n",
       "      <th></th>\n",
       "      <th>Team</th>\n",
       "      <th>Total Match</th>\n",
       "      <th>Wins</th>\n",
       "      <th>Win_Percent</th>\n",
       "    </tr>\n",
       "  </thead>\n",
       "  <tbody>\n",
       "    <tr>\n",
       "      <th>0</th>\n",
       "      <td>Royal Challengers Bangalore</td>\n",
       "      <td>167</td>\n",
       "      <td>82</td>\n",
       "      <td>49.10</td>\n",
       "    </tr>\n",
       "    <tr>\n",
       "      <th>1</th>\n",
       "      <td>Sunrisers Hyderabad</td>\n",
       "      <td>91</td>\n",
       "      <td>54</td>\n",
       "      <td>59.34</td>\n",
       "    </tr>\n",
       "    <tr>\n",
       "      <th>2</th>\n",
       "      <td>Rising Pune Supergiants</td>\n",
       "      <td>30</td>\n",
       "      <td>14</td>\n",
       "      <td>46.67</td>\n",
       "    </tr>\n",
       "    <tr>\n",
       "      <th>3</th>\n",
       "      <td>Mumbai Indians</td>\n",
       "      <td>170</td>\n",
       "      <td>98</td>\n",
       "      <td>57.65</td>\n",
       "    </tr>\n",
       "    <tr>\n",
       "      <th>4</th>\n",
       "      <td>Kolkata Knight Riders</td>\n",
       "      <td>162</td>\n",
       "      <td>76</td>\n",
       "      <td>46.91</td>\n",
       "    </tr>\n",
       "    <tr>\n",
       "      <th>5</th>\n",
       "      <td>Gujarat Lions</td>\n",
       "      <td>30</td>\n",
       "      <td>13</td>\n",
       "      <td>43.33</td>\n",
       "    </tr>\n",
       "    <tr>\n",
       "      <th>6</th>\n",
       "      <td>Kings XI Punjab</td>\n",
       "      <td>161</td>\n",
       "      <td>74</td>\n",
       "      <td>45.96</td>\n",
       "    </tr>\n",
       "    <tr>\n",
       "      <th>7</th>\n",
       "      <td>Delhi Daredevils</td>\n",
       "      <td>160</td>\n",
       "      <td>71</td>\n",
       "      <td>44.38</td>\n",
       "    </tr>\n",
       "    <tr>\n",
       "      <th>8</th>\n",
       "      <td>Chennai Super Kings</td>\n",
       "      <td>145</td>\n",
       "      <td>86</td>\n",
       "      <td>59.31</td>\n",
       "    </tr>\n",
       "    <tr>\n",
       "      <th>9</th>\n",
       "      <td>Rajasthan Royals</td>\n",
       "      <td>133</td>\n",
       "      <td>67</td>\n",
       "      <td>50.38</td>\n",
       "    </tr>\n",
       "    <tr>\n",
       "      <th>10</th>\n",
       "      <td>Deccan Chargers</td>\n",
       "      <td>74</td>\n",
       "      <td>34</td>\n",
       "      <td>45.95</td>\n",
       "    </tr>\n",
       "    <tr>\n",
       "      <th>11</th>\n",
       "      <td>Kochi Tuskers Kerala</td>\n",
       "      <td>14</td>\n",
       "      <td>6</td>\n",
       "      <td>42.86</td>\n",
       "    </tr>\n",
       "    <tr>\n",
       "      <th>12</th>\n",
       "      <td>Pune Warriors</td>\n",
       "      <td>45</td>\n",
       "      <td>16</td>\n",
       "      <td>35.56</td>\n",
       "    </tr>\n",
       "  </tbody>\n",
       "</table>\n",
       "</div>"
      ],
      "text/plain": [
       "                           Team  Total Match  Wins  Win_Percent\n",
       "0   Royal Challengers Bangalore          167    82        49.10\n",
       "1           Sunrisers Hyderabad           91    54        59.34\n",
       "2       Rising Pune Supergiants           30    14        46.67\n",
       "3                Mumbai Indians          170    98        57.65\n",
       "4         Kolkata Knight Riders          162    76        46.91\n",
       "5                 Gujarat Lions           30    13        43.33\n",
       "6               Kings XI Punjab          161    74        45.96\n",
       "7              Delhi Daredevils          160    71        44.38\n",
       "8           Chennai Super Kings          145    86        59.31\n",
       "9              Rajasthan Royals          133    67        50.38\n",
       "10              Deccan Chargers           74    34        45.95\n",
       "11         Kochi Tuskers Kerala           14     6        42.86\n",
       "12                Pune Warriors           45    16        35.56"
      ]
     },
     "execution_count": 51,
     "metadata": {},
     "output_type": "execute_result"
    }
   ],
   "source": [
    "winprecent"
   ]
  },
  {
   "cell_type": "markdown",
   "metadata": {},
   "source": [
    "We can see __Chennai Super Kings__ and __Sunrisers Hyderabad__ have almost same win % but __Chennai Super Kings__ have played more matches than __Sunrisers Hyderabad__."
   ]
  },
  {
   "cell_type": "markdown",
   "metadata": {},
   "source": [
    "<a id=section305></a>"
   ]
  },
  {
   "cell_type": "markdown",
   "metadata": {},
   "source": [
    "### 3.5. What is the win to loose ratio for all the teams?"
   ]
  },
  {
   "cell_type": "code",
   "execution_count": 91,
   "metadata": {},
   "outputs": [
    {
     "data": {
      "image/png": "[encoded data removed]",
      "text/plain": [
       "<Figure size 600x300 with 1 Axes>"
      ]
     },
     "metadata": {},
     "output_type": "display_data"
    }
   ],
   "source": [
    "a=sns.catplot('batting_team', hue='Result', kind='count', data=show_result);\n",
    "a.set_xticklabels(rotation=90)\n",
    "a.fig.set_size_inches(6,3)"
   ]
  },
  {
   "cell_type": "markdown",
   "metadata": {},
   "source": [
    "- We can see __Mumbai Indians__ has the highest win to loose ratio in IPL ."
   ]
  },
  {
   "cell_type": "markdown",
   "metadata": {},
   "source": [
    "<a id=section306></a>"
   ]
  },
  {
   "cell_type": "markdown",
   "metadata": {},
   "source": [
    "### 3.6 Who has maximum average last 5 over score?"
   ]
  },
  {
   "cell_type": "code",
   "execution_count": 63,
   "metadata": {},
   "outputs": [],
   "source": [
    "last5over=deliveries1[((deliveries1['over'] >=15) & (deliveries1['over'] <=20))]\n",
    "last5over=last5over.groupby(['batting_team'])['total_runs'].sum().nlargest(13)\n"
   ]
  },
  {
   "cell_type": "code",
   "execution_count": 85,
   "metadata": {},
   "outputs": [],
   "source": [
    "last5overscore=pd.DataFrame(last5over)\n",
    "last5overscore.reset_index(inplace=True)\n",
    "\n",
    "teamtoscore={}\n",
    "\n",
    "def last5overscoretodict():\n",
    "    j=last5overscore.shape[0]\n",
    "    for i in range(0,j):\n",
    "        teamtoscore[last5overscore.iloc[i,0]]=last5overscore.iloc[i,1]\n",
    "   # print(teamtoscore)\n",
    "    \n",
    "last5overscoretodict()"
   ]
  },
  {
   "cell_type": "code",
   "execution_count": 86,
   "metadata": {},
   "outputs": [
    {
     "data": {
      "text/html": [
       "<div>\n",
       "<style scoped>\n",
       "    .dataframe tbody tr th:only-of-type {\n",
       "        vertical-align: middle;\n",
       "    }\n",
       "\n",
       "    .dataframe tbody tr th {\n",
       "        vertical-align: top;\n",
       "    }\n",
       "\n",
       "    .dataframe thead th {\n",
       "        text-align: right;\n",
       "    }\n",
       "</style>\n",
       "<table border=\"1\" class=\"dataframe\">\n",
       "  <thead>\n",
       "    <tr style=\"text-align: right;\">\n",
       "      <th></th>\n",
       "      <th>Team</th>\n",
       "      <th>Avg</th>\n",
       "    </tr>\n",
       "  </thead>\n",
       "  <tbody>\n",
       "    <tr>\n",
       "      <th>0</th>\n",
       "      <td>Royal Challengers Bangalore</td>\n",
       "      <td>51.09</td>\n",
       "    </tr>\n",
       "    <tr>\n",
       "      <th>1</th>\n",
       "      <td>Sunrisers Hyderabad</td>\n",
       "      <td>53.32</td>\n",
       "    </tr>\n",
       "    <tr>\n",
       "      <th>2</th>\n",
       "      <td>Rising Pune Supergiants</td>\n",
       "      <td>47.90</td>\n",
       "    </tr>\n",
       "    <tr>\n",
       "      <th>3</th>\n",
       "      <td>Mumbai Indians</td>\n",
       "      <td>54.18</td>\n",
       "    </tr>\n",
       "    <tr>\n",
       "      <th>4</th>\n",
       "      <td>Kolkata Knight Riders</td>\n",
       "      <td>47.54</td>\n",
       "    </tr>\n",
       "    <tr>\n",
       "      <th>5</th>\n",
       "      <td>Gujarat Lions</td>\n",
       "      <td>46.13</td>\n",
       "    </tr>\n",
       "    <tr>\n",
       "      <th>6</th>\n",
       "      <td>Kings XI Punjab</td>\n",
       "      <td>49.53</td>\n",
       "    </tr>\n",
       "    <tr>\n",
       "      <th>7</th>\n",
       "      <td>Delhi Daredevils</td>\n",
       "      <td>46.22</td>\n",
       "    </tr>\n",
       "    <tr>\n",
       "      <th>8</th>\n",
       "      <td>Chennai Super Kings</td>\n",
       "      <td>55.64</td>\n",
       "    </tr>\n",
       "    <tr>\n",
       "      <th>9</th>\n",
       "      <td>Rajasthan Royals</td>\n",
       "      <td>46.66</td>\n",
       "    </tr>\n",
       "    <tr>\n",
       "      <th>10</th>\n",
       "      <td>Deccan Chargers</td>\n",
       "      <td>50.51</td>\n",
       "    </tr>\n",
       "    <tr>\n",
       "      <th>11</th>\n",
       "      <td>Kochi Tuskers Kerala</td>\n",
       "      <td>35.86</td>\n",
       "    </tr>\n",
       "    <tr>\n",
       "      <th>12</th>\n",
       "      <td>Pune Warriors</td>\n",
       "      <td>45.76</td>\n",
       "    </tr>\n",
       "  </tbody>\n",
       "</table>\n",
       "</div>"
      ],
      "text/plain": [
       "                           Team    Avg\n",
       "0   Royal Challengers Bangalore  51.09\n",
       "1           Sunrisers Hyderabad  53.32\n",
       "2       Rising Pune Supergiants  47.90\n",
       "3                Mumbai Indians  54.18\n",
       "4         Kolkata Knight Riders  47.54\n",
       "5                 Gujarat Lions  46.13\n",
       "6               Kings XI Punjab  49.53\n",
       "7              Delhi Daredevils  46.22\n",
       "8           Chennai Super Kings  55.64\n",
       "9              Rajasthan Royals  46.66\n",
       "10              Deccan Chargers  50.51\n",
       "11         Kochi Tuskers Kerala  35.86\n",
       "12                Pune Warriors  45.76"
      ]
     },
     "execution_count": 86,
     "metadata": {},
     "output_type": "execute_result"
    }
   ],
   "source": [
    "avgscore={}\n",
    "def avglast5overscore():\n",
    "    for key,val in d1.items():\n",
    "        avgscore[key]=round(teamtoscore[key]/d1[key],2)\n",
    "    #print(avgscore)\n",
    "    \n",
    "avglast5overscore()\n",
    "\n",
    "avg_df=pd.DataFrame.from_dict(avgscore,orient='index')\n",
    "avg_df.index.names=[\"Team\"]\n",
    "avg_df.reset_index(inplace=True)\n",
    "avg_df.columns=['Team','Avg']\n",
    "avg_df"
   ]
  },
  {
   "cell_type": "code",
   "execution_count": 93,
   "metadata": {},
   "outputs": [
    {
     "data": {
      "image/png": "[encoded data removed]",
      "text/plain": [
       "<Figure size 600x300 with 1 Axes>"
      ]
     },
     "metadata": {},
     "output_type": "display_data"
    }
   ],
   "source": [
    "plt.rcParams['figure.figsize']=(6,3)\n",
    "avg_df.plot(x='Team', y='Avg', kind='bar') \n",
    "plt.show()"
   ]
  },
  {
   "cell_type": "markdown",
   "metadata": {},
   "source": [
    "We can see __Mumbai Indians and Chennai Super Kings__ have average of 54 and 55."
   ]
  },
  {
   "cell_type": "markdown",
   "metadata": {},
   "source": [
    "<a id=section307></a>"
   ]
  },
  {
   "cell_type": "markdown",
   "metadata": {},
   "source": [
    "### 3.7 Hypothesis: Team having good run rate in last 5 overs have more chances of winning the game"
   ]
  },
  {
   "cell_type": "markdown",
   "metadata": {},
   "source": [
    "On studying above Questionnaires we observed that the teams having nice aveage in last 5 overs of the match havewon more matches in total.\n",
    "__Mumbai Indians__ are on top followed by __Chennai Super KIngs__\n"
   ]
  },
  {
   "cell_type": "markdown",
   "metadata": {},
   "source": [
    "<a id=section4></a>"
   ]
  },
  {
   "cell_type": "markdown",
   "metadata": {
    "_cell_guid": "b003787b-c505-4a4c-9f43-230acc35c2f5",
    "_uuid": "ee26abaed914638118de10f1cc177184d38abd21",
    "collapsed": true
   },
   "source": [
    "## 4. Conclusion \n",
    "\n",
    "- With the help of this notebook we learnt how exploratory data analysis can be carried out using Pandas plotting.\n",
    "- Also we have seen making use of packages like __matplotlib and seaborn__ to develop better insights about the data.<br/>\n",
    "- We have also seen how __preproceesing__ helps in dealing with _missing_ values and irregualities present in the data. We also learnt how to _create new features_ which will in turn help us to better predict the survival. \n",
    "- We also make use of __pandas profiling__ feature to generate an html report containing all the information of the various features present in the dataset.\n",
    "- The most important inference drawn from all this analysis is, we get to know what are the winning percentages of each team and how it is related to last 5 over score average.\n"
   ]
  }
 ],
 "metadata": {
  "kernelspec": {
   "display_name": "Python 3",
   "language": "python",
   "name": "python3"
  },
  "language_info": {
   "codemirror_mode": {
    "name": "ipython",
    "version": 3
   },
   "file_extension": ".py",
   "mimetype": "text/x-python",
   "name": "python",
   "nbconvert_exporter": "python",
   "pygments_lexer": "ipython3",
   "version": "3.7.0"
  }
 },
 "nbformat": 4,
 "nbformat_minor": 1
}
